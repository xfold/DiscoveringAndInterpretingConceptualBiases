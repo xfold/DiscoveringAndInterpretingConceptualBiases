{
 "cells": [
  {
   "cell_type": "markdown",
   "metadata": {},
   "source": [
    "# Train models example"
   ]
  },
  {
   "cell_type": "raw",
   "metadata": {},
   "source": [
    "This file is used to train the models, \n",
    "This example trains a toy dataset for r/TRP saved in folder Datasets, and saves the reuslting model in folder /Models"
   ]
  },
  {
   "cell_type": "code",
   "execution_count": null,
   "metadata": {
    "scrolled": true
   },
   "outputs": [
    {
     "name": "stderr",
     "output_type": "stream",
     "text": [
      "C:\\Users\\User\\AppData\\Roaming\\Python\\Python37\\site-packages\\smart_open\\ssh.py:34: UserWarning: paramiko missing, opening SSH/SCP/SFTP paths will be disabled.  `pip install paramiko` to suppress\n",
      "  warnings.warn('paramiko missing, opening SSH/SCP/SFTP paths will be disabled.  `pip install paramiko` to suppress')\n"
     ]
    },
    {
     "name": "stdout",
     "output_type": "stream",
     "text": [
      "Print setup  {'csvfile': '../Datasets/toy_1000_trp.csv', 'outputFile': '../Models/toy_w4_f10_e100_d100', 'w': 4, 'minf': 10, 'epochs': 100, 'ndim': 100}\n",
      "->Starting with ../Datasets/toy_1000_trp.csv [body\r",
      "], output ../Models/toy_w4_f10_e100_d100, window 4, minf 10, epochs 100, ndim 100\n"
     ]
    },
    {
     "name": "stderr",
     "output_type": "stream",
     "text": [
      "C:\\Users\\User\\AppData\\Roaming\\Python\\Python37\\site-packages\\IPython\\core\\interactiveshell.py:3296: DtypeWarning: Columns (1,3) have mixed types. Specify dtype option on import or set low_memory=False.\n",
      "  exec(code_obj, self.user_global_ns, self.user_ns)\n"
     ]
    },
    {
     "name": "stdout",
     "output_type": "stream",
     "text": [
      "total rows 999999\n",
      "\t...processing line 0\n",
      "\terror with row I think you are in a very tenuous situation regardless of how you play this.\n",
      "\n",
      "Facebook is almost a BIG no unless you know the person quite well and its almost a formality, even then I would avoid it. \n",
      "\n",
      "The purpose of asking a girl for their number also is so that they consent to allowing you to call them, getting it from someone else will not work (and will be even more creepy).\n",
      "\n",
      "If you merely sent her a message upfront, she will run. Chicks usually like to 'stew' on if they like you based on how you make them feel. Its not really a 'logical' decision based on mutual interests.\n",
      "\n",
      "My best recommendation in this situation would be to try and get to know her on facebook chat. I've seen plenty of males in their 20's pull this off successfully, you have to make pretty sure how you pace the conversation as not to get friendzoned and if it goes well ask them out very quickly.\n",
      "\n",
      "\n",
      "\t...processing line 500000\n",
      "-> Output will be saved in ../Models/toy_w4_f10_e100_d100\n",
      "->->Starting training model ../Models/toy_w4_f10_e100_d100 with dimensions:100, minf:10, epochs:100\n"
     ]
    },
    {
     "name": "stderr",
     "output_type": "stream",
     "text": [
      "WARNING:gensim.models.base_any2vec:Effective 'alpha' higher than previous training cycles\n"
     ]
    }
   ],
   "source": [
    "import TrainModels\n",
    "\n",
    "trainingSetup = [\n",
    "    #different dimensions\n",
    "  {'csvfile': \"../Datasets/toy_1000_trp.csv\", 'outputFile': '../Models/toy_w4_f10_e100_d100', 'w':4, 'minf': 10, 'epochs':100 ,'ndim':100}    \n",
    "]\n",
    "\n",
    "\n",
    "for setup in trainingSetup:\n",
    "    print('Print setup ', setup)\n",
    "    TrainModels.TrainModel(setup['csvfile'], \n",
    "                           'body\\r',\n",
    "                           outputname = setup['outputFile'],\n",
    "                           window = setup['w'],\n",
    "                           minf = setup['minf'],\n",
    "                           epochs = setup['epochs'],\n",
    "                           ndim = setup['ndim'],\n",
    "                           lemmatiseFirst = True,\n",
    "                           encoding = \"ISO-8859-1\"\n",
    "                           )"
   ]
  },
  {
   "cell_type": "code",
   "execution_count": null,
   "metadata": {},
   "outputs": [],
   "source": []
  }
 ],
 "metadata": {
  "kernelspec": {
   "display_name": "Python 3",
   "language": "python",
   "name": "python3"
  },
  "language_info": {
   "codemirror_mode": {
    "name": "ipython",
    "version": 3
   },
   "file_extension": ".py",
   "mimetype": "text/x-python",
   "name": "python",
   "nbconvert_exporter": "python",
   "pygments_lexer": "ipython3",
   "version": "3.7.3"
  }
 },
 "nbformat": 4,
 "nbformat_minor": 2
}
