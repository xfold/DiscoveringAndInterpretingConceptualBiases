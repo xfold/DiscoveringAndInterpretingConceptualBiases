{
 "cells": [
  {
   "cell_type": "markdown",
   "metadata": {},
   "source": [
    "# Train models for NeurIPS2020"
   ]
  },
  {
   "cell_type": "raw",
   "metadata": {},
   "source": [
    "This file is used to train the models, saved in folder /Models"
   ]
  },
  {
   "cell_type": "code",
   "execution_count": 13,
   "metadata": {
    "scrolled": true
   },
   "outputs": [
    {
     "name": "stdout",
     "output_type": "stream",
     "text": [
      "Print setup  {'csvfile': 'C:/Corpora/subreddits/subreddits/theredpill/comments.csv', 'outputFile': '../Models/trp_w4_f10_e100_d200_lemma', 'w': 4, 'minf': 10, 'epochs': 100, 'ndim': 200}\n",
      "->Starting with C:/Corpora/subreddits/subreddits/theredpill/comments.csv [body], output ../Models/trp_w4_f10_e100_d200_lemma, window 4, minf 10, epochs 100, ndim 200\n",
      "total rows 2844130\n",
      "\t...processing line 0\n",
      "\terror with row nan\n",
      "\t...processing line 500000\n",
      "\terror with row nan\n",
      "\terror with row nan\n",
      "\terror with row nan\n",
      "\t...processing line 1000000\n",
      "\terror with row nan\n",
      "\terror with row nan\n",
      "\terror with row nan\n",
      "\t...processing line 1500000\n",
      "\t...processing line 2000000\n",
      "\t...processing line 2500000\n",
      "-> Output will be saved in ../Models/trp_w4_f10_e100_d200_lemma\n",
      "->->Starting training model ../Models/trp_w4_f10_e100_d200_lemma with dimensions:200, minf:10, epochs:100\n"
     ]
    },
    {
     "name": "stderr",
     "output_type": "stream",
     "text": [
      "WARNING:gensim.models.base_any2vec:Effective 'alpha' higher than previous training cycles\n",
      "WARNING:smart_open.smart_open_lib:this function is deprecated, use smart_open.open instead\n"
     ]
    },
    {
     "name": "stdout",
     "output_type": "stream",
     "text": [
      "->-> Model saved in ../Models/trp_w4_f10_e100_d200_lemma\n",
      "-> Model creation ended in 6191.192390918732 seconds\n"
     ]
    }
   ],
   "source": [
    "import TrainModels\n",
    "\n",
    "trainingSetup = [\n",
    "    #different dimensions\n",
    "   # {'csvfile': \"C:/Corpora/subreddits/subreddits/theredpill/comments.csv\", 'outputFile': '../Models/trp_w4_f10_e100_d100', 'w':4, 'minf': 10, 'epochs':100 ,'ndim':100},\n",
    "    {'csvfile': \"C:/Corpora/subreddits/subreddits/theredpill/comments.csv\", 'outputFile': '../Models/trp_w4_f10_e100_d200_lemma', 'w':4, 'minf': 10, 'epochs':100 ,'ndim':200},\n",
    "   # {'csvfile': \"C:/Corpora/subreddits/subreddits/theredpill/comments.csv\", 'outputFile': '../Models/trp_w4_f10_e100_d300', 'w':4, 'minf': 10, 'epochs':100 ,'ndim':300},\n",
    "   # #different windows\n",
    "   # {'csvfile': \"C:/Corpora/subreddits/subreddits/theredpill/comments.csv\", 'outputFile': '../Models/trp_w3_f10_e100_d200', 'w':3, 'minf': 10, 'epochs':100 ,'ndim':200},\n",
    "   # {'csvfile': \"C:/Corpora/subreddits/subreddits/theredpill/comments.csv\", 'outputFile': '../Models/trp_w5_f10_e100_d200', 'w':5, 'minf': 10, 'epochs':100 ,'ndim':200},\n",
    "   # #different epochs \n",
    "   # {'csvfile': \"C:/Corpora/subreddits/subreddits/theredpill/comments.csv\", 'outputFile': '../Models/trp_w4_f10_e200_d200', 'w':4, 'minf': 10, 'epochs':200 ,'ndim':200},\n",
    "   # #different thresholds\n",
    "   # {'csvfile': \"C:/Corpora/subreddits/subreddits/theredpill/comments.csv\", 'outputFile': '../Models/trp_w4_f100_e100_d200', 'w':4, 'minf': 100, 'epochs':100 ,'ndim':200},\n",
    "    #{'csvfile': \"C:/Corpora/subreddits/subreddits/theredpill/comments.csv\", 'outputFile': '../Models/trp_w4_f50_e100_d200' , 'w':4, 'minf': 50, 'epochs':100 ,'ndim':200}\n",
    "    #atheism\n",
    "    #{'csvfile': \"C:/Corpora/subreddits/subreddits/atheism/comments.csv\", 'outputFile': '../Models/ath_w4_f10_e100_d200', 'w':4, 'minf': 10, 'epochs':100 ,'ndim':200},\n",
    "]\n",
    "\n",
    "\n",
    "for setup in trainingSetup:\n",
    "    print('Print setup ', setup)\n",
    "    TrainModels.TrainModel(setup['csvfile'], \n",
    "                           'body',\n",
    "                           outputname = setup['outputFile'],\n",
    "                           window = setup['w'],\n",
    "                           minf = setup['minf'],\n",
    "                           epochs = setup['epochs'],\n",
    "                           ndim = setup['ndim'],\n",
    "                           lemmatiseFirst = True\n",
    "                           )"
   ]
  },
  {
   "cell_type": "code",
   "execution_count": null,
   "metadata": {},
   "outputs": [],
   "source": []
  }
 ],
 "metadata": {
  "kernelspec": {
   "display_name": "Python 3",
   "language": "python",
   "name": "python3"
  },
  "language_info": {
   "codemirror_mode": {
    "name": "ipython",
    "version": 3
   },
   "file_extension": ".py",
   "mimetype": "text/x-python",
   "name": "python",
   "nbconvert_exporter": "python",
   "pygments_lexer": "ipython3",
   "version": "3.7.3"
  }
 },
 "nbformat": 4,
 "nbformat_minor": 2
}
