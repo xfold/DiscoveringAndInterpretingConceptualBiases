{
 "cells": [
  {
   "cell_type": "markdown",
   "metadata": {},
   "source": [
    "# Train models example"
   ]
  },
  {
   "cell_type": "raw",
   "metadata": {},
   "source": [
    "This file is used to train the embedding models given a csv file. \n",
    "This example trains a toy dataset for r/TRP saved in folder Datasets/, and saves the resulting model in folder EmbeddingModels/"
   ]
  },
  {
   "cell_type": "code",
   "execution_count": 1,
   "metadata": {
    "scrolled": true
   },
   "outputs": [
    {
     "name": "stderr",
     "output_type": "stream",
     "text": [
      "C:\\Users\\User\\AppData\\Roaming\\Python\\Python37\\site-packages\\smart_open\\ssh.py:34: UserWarning: paramiko missing, opening SSH/SCP/SFTP paths will be disabled.  `pip install paramiko` to suppress\n",
      "  warnings.warn('paramiko missing, opening SSH/SCP/SFTP paths will be disabled.  `pip install paramiko` to suppress')\n"
     ]
    },
    {
     "name": "stdout",
     "output_type": "stream",
     "text": [
      "Print setup  {'csvfile': 'Datasets/toy_1000_trp.csv', 'outputFile': 'EmbeddingModels/toy_w4_f10_e100_d100', 'w': 4, 'minf': 10, 'epochs': 100, 'ndim': 100}\n",
      "->Starting with Datasets/toy_1000_trp.csv [body\r",
      "], output EmbeddingModels/toy_w4_f10_e100_d100, window 4, minf 10, epochs 100, ndim 100\n"
     ]
    },
    {
     "name": "stderr",
     "output_type": "stream",
     "text": [
      "C:\\Users\\User\\AppData\\Roaming\\Python\\Python37\\site-packages\\IPython\\core\\interactiveshell.py:3296: DtypeWarning: Columns (1,3) have mixed types. Specify dtype option on import or set low_memory=False.\n",
      "  exec(code_obj, self.user_global_ns, self.user_ns)\n"
     ]
    },
    {
     "name": "stdout",
     "output_type": "stream",
     "text": [
      "total rows 999999\n",
      "\t...processing line 0\n",
      "\t...processing line 500000\n",
      "-> Output will be saved in EmbeddingModels/toy_w4_f10_e100_d100\n",
      "->->Starting training model EmbeddingModels/toy_w4_f10_e100_d100 with dimensions:100, minf:10, epochs:100\n"
     ]
    },
    {
     "name": "stderr",
     "output_type": "stream",
     "text": [
      "WARNING:gensim.models.base_any2vec:Effective 'alpha' higher than previous training cycles\n",
      "WARNING:smart_open.smart_open_lib:this function is deprecated, use smart_open.open instead\n"
     ]
    },
    {
     "name": "stdout",
     "output_type": "stream",
     "text": [
      "->-> Model saved in EmbeddingModels/toy_w4_f10_e100_d100\n",
      "-> Model creation ended in 474.1965546607971 seconds\n"
     ]
    }
   ],
   "source": [
    "import TrainModels\n",
    "\n",
    "#\n",
    "# Training Configurations\n",
    "# \n",
    "# add here the different training configs to train different models\n",
    "# (note this is a toy training example to test the training process, the parameters used are different from those used in the paper!)\n",
    "trainingSetup = [\n",
    "    {'csvfile': \"Datasets/toy_1000_trp.csv\", 'outputFile': 'EmbeddingModels/toy_w4_f10_e100_d100', 'w':4, 'minf': 10, 'epochs':100 ,'ndim':100}  \n",
    "]\n",
    "\n",
    "#\n",
    "# Run the training process\n",
    "#\n",
    "for setup in trainingSetup:\n",
    "    print('Print setup ', setup)\n",
    "    TrainModels.TrainModel(setup['csvfile'], \n",
    "                           'body\\r',\n",
    "                           outputname = setup['outputFile'],\n",
    "                           window = setup['w'],\n",
    "                           minf = setup['minf'],\n",
    "                           epochs = setup['epochs'],\n",
    "                           ndim = setup['ndim'],\n",
    "                           encoding = \"ISO-8859-1\" #change encoding to default utf-8 for other csvs\n",
    "                           )"
   ]
  },
  {
   "cell_type": "code",
   "execution_count": null,
   "metadata": {},
   "outputs": [],
   "source": []
  }
 ],
 "metadata": {
  "kernelspec": {
   "display_name": "Python 3",
   "language": "python",
   "name": "python3"
  },
  "language_info": {
   "codemirror_mode": {
    "name": "ipython",
    "version": 3
   },
   "file_extension": ".py",
   "mimetype": "text/x-python",
   "name": "python",
   "nbconvert_exporter": "python",
   "pygments_lexer": "ipython3",
   "version": "3.7.3"
  }
 },
 "nbformat": 4,
 "nbformat_minor": 2
}
