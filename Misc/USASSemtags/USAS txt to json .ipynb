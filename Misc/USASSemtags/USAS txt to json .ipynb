{
 "cells": [
  {
   "cell_type": "markdown",
   "metadata": {},
   "source": [
    "# load the txt USAS file and save it as a json dict"
   ]
  },
  {
   "cell_type": "code",
   "execution_count": 12,
   "metadata": {},
   "outputs": [],
   "source": [
    "import json\n",
    "\n",
    "d = dict()\n",
    "file = open(\"USAS-semtags.txt\",\"r\") \n",
    "for line in file:\n",
    "    line = line.strip()\n",
    "    \n",
    "        \n",
    "    key = line.split('\\t')[0]\n",
    "    value = line.split('\\t')[1]\n",
    "    d[key] = value\n",
    "    \n",
    "    \n",
    "with open('USAS.json', 'w') as f:\n",
    "    json.dump(d, f)\n",
    "\n",
    "print('complete')"
   ]
  },
  {
   "cell_type": "markdown",
   "metadata": {},
   "source": [
    "## test load"
   ]
  },
  {
   "cell_type": "code",
   "execution_count": 13,
   "metadata": {},
   "outputs": [
    {
     "name": "stdout",
     "output_type": "stream",
     "text": [
      "General actions, making etc.\n"
     ]
    }
   ],
   "source": [
    "with open('USAS.json', 'r') as json_file:\n",
    "    d = json.load(json_file)\n",
    "\n",
    "#A1.1.1\tGeneral actions, making etc.\n",
    "print( d['A1.1.1'] )"
   ]
  },
  {
   "cell_type": "code",
   "execution_count": null,
   "metadata": {},
   "outputs": [],
   "source": []
  }
 ],
 "metadata": {
  "kernelspec": {
   "display_name": "Python 3",
   "language": "python",
   "name": "python3"
  },
  "language_info": {
   "codemirror_mode": {
    "name": "ipython",
    "version": 3
   },
   "file_extension": ".py",
   "mimetype": "text/x-python",
   "name": "python",
   "nbconvert_exporter": "python",
   "pygments_lexer": "ipython3",
   "version": "3.7.3"
  }
 },
 "nbformat": 4,
 "nbformat_minor": 2
}
