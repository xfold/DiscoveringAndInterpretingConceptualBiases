{
 "cells": [
  {
   "cell_type": "markdown",
   "metadata": {},
   "source": [
    "# \n",
    "\n",
    "http://ucrel-api.lancaster.ac.uk/cgi-bin/usas.pl\n",
    "    \n",
    "    email:a.nobody@here.ac.uk\n",
    "    tagset:c7\n",
    "    style:vert\n",
    "    text:honey beer"
   ]
  },
  {
   "cell_type": "markdown",
   "metadata": {},
   "source": [
    "# Original Code (with some updates that do not work with '.', ',', etc..), see -.py file"
   ]
  },
  {
   "cell_type": "code",
   "execution_count": 12,
   "metadata": {},
   "outputs": [
    {
     "name": "stdout",
     "output_type": "stream",
     "text": [
      "0000003 010  JJ      Anal                     B1 S1.2\n",
      "[]\n"
     ]
    }
   ],
   "source": [
    "import requests\n",
    "import json\n",
    "\n",
    "json_file = open('USAS.json', 'r')\n",
    "usas_d = json.load(json_file)\n",
    "\n",
    "def getUSASCategory(usaskw):\n",
    "    '''\n",
    "    first preprocess, remove, etc the kw\n",
    "    '''\n",
    "    aux = usaskw.strip()\n",
    "    if '[' in aux:\n",
    "        aux = aux[0:aux.index('[')]\n",
    "    if 'm' in aux:\n",
    "        aux = aux[0:aux.index('m')]\n",
    "    if 'f' in aux:\n",
    "        aux = aux[0:aux.index('f')]\n",
    "    if 'c' in aux:\n",
    "        aux = aux[0:aux.index('c')]\n",
    "    if '+' in aux:\n",
    "        aux = aux[0:aux.index('+')]\n",
    "    if '-' in aux:\n",
    "        aux = aux[0:aux.index('-')]\n",
    "    \n",
    "    print(aux)\n",
    "    print(usas_d[aux])\n",
    "    \n",
    "    return usas_d[aux]\n",
    "\n",
    "\n",
    "def parseL(line):\n",
    "    #expects a lien like this 0000003 010  NN1     honey                    F1 \n",
    "    if '.' in line or ',' in line:\n",
    "        return None\n",
    "    \n",
    "    auxl = list([])\n",
    "    cw = list([])\n",
    "    for c in line:\n",
    "        if c!=' ' or len(auxl)== 4:\n",
    "            cw.append(c)\n",
    "        elif c == ' ' and len(cw) >0:\n",
    "            auxl.append(''.join(cw))\n",
    "            cw = []\n",
    "\n",
    "    usascat = ''.join(cw).strip().split(' ')\n",
    "    r = []\n",
    "    for c in usascat:\n",
    "        r.append( (c, getUSASCategory(c)) )\n",
    "        \n",
    "    print('categoreis {}'.format(r))\n",
    "        \n",
    "    auxl.append(r)\n",
    "    return auxl\n",
    "\n",
    "\n",
    "\n",
    "url = 'http://ucrel-api.lancaster.ac.uk/cgi-bin/usas.pl'\n",
    "d = dict()\n",
    "d['email'] = 'a.nobody@here.ac.uk'\n",
    "d['tagset'] = 'c7'\n",
    "d['style'] = 'vert'\n",
    "d['text'] = 'Anal'\n",
    "\n",
    "response = requests.post(url, files=d)\n",
    "html = response.text\n",
    "\n",
    "cleantext = html[html.index('<pre>')+5: html.index('</pre>')]\n",
    "\n",
    "tor = list([])\n",
    "#iterate and remove first and last line\n",
    "for line in cleantext.split('\\n')[2:-2]:\n",
    "    wl = line.strip()\n",
    "    print(wl)\n",
    "    pr = parseL(wl)\n",
    "    if pr is not None:\n",
    "        [ids, x, pos, w, usas] = pr\n",
    "        #print([ids, x, pos, w, usas] )\n",
    "        tor.append( [w, pos, usas] )\n",
    "\n",
    "print(tor)"
   ]
  },
  {
   "cell_type": "markdown",
   "metadata": {},
   "source": [
    "# python library code"
   ]
  },
  {
   "cell_type": "code",
   "execution_count": 2,
   "metadata": {},
   "outputs": [
    {
     "name": "stdout",
     "output_type": "stream",
     "text": [
      "\n",
      "[['anal', 'JJ', [('B1', 'Anatomy and physiology'), ('S1.2', 'Personality traits')]], ['body', 'NN1', [('B1', 'Anatomy and physiology'), ('O2', 'Objects generally'), ('S5+c', 'Groups and affiliation'), ('O4.1', 'General appearance and physical properties'), ('S2mf', 'People')]]]\n",
      "\n",
      "[['anal', 'JJ', [('B1', 'Anatomy and physiology'), ('S1.2', 'Personality traits')]]]\n",
      "\n",
      "[['sex', 'NN1', [('S2', 'People'), ('S3.2', 'Relationship: Intimate/sexual')]]]\n",
      "\n",
      "[['anal', 'JJ', [('S3.2[i1.2.1', 'Relationship: Intimate/sexual'), ('B1', 'Anatomy and physiology'), ('S1.2', 'Personality traits')]], ['sex', 'NN1', [('S3.2[i1.2.2', 'Relationship: Intimate/sexual'), ('S2', 'People'), ('S3.2', 'Relationship: Intimate/sexual')]]]\n"
     ]
    }
   ],
   "source": [
    "from GetUSASOnline import get_USAS_categories_online\n",
    "\n",
    "usastagging = get_USAS_categories_online('anal \\n body')\n",
    "print()\n",
    "print( usastagging )\n",
    "\n",
    "usastagging = get_USAS_categories_online('anal')\n",
    "print()\n",
    "print( usastagging )\n",
    "\n",
    "usastagging = get_USAS_categories_online('sex')\n",
    "print()\n",
    "print( usastagging )\n",
    "\n",
    "usastagging = get_USAS_categories_online('anal \\n sex')\n",
    "print()\n",
    "print( usastagging )"
   ]
  },
  {
   "cell_type": "code",
   "execution_count": 15,
   "metadata": {},
   "outputs": [],
   "source": [
    "import json\n",
    "with open('USAS.json', 'r') as json_file:\n",
    "    d = json.load(json_file)"
   ]
  },
  {
   "cell_type": "code",
   "execution_count": null,
   "metadata": {},
   "outputs": [],
   "source": [
    "for r in usastagging:\n",
    "    "
   ]
  }
 ],
 "metadata": {
  "kernelspec": {
   "display_name": "Python 3",
   "language": "python",
   "name": "python3"
  },
  "language_info": {
   "codemirror_mode": {
    "name": "ipython",
    "version": 3
   },
   "file_extension": ".py",
   "mimetype": "text/x-python",
   "name": "python",
   "nbconvert_exporter": "python",
   "pygments_lexer": "ipython3",
   "version": "3.7.3"
  }
 },
 "nbformat": 4,
 "nbformat_minor": 2
}
